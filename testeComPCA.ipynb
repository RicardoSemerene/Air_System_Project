{
 "cells": [
  {
   "cell_type": "code",
   "execution_count": 1,
   "metadata": {},
   "outputs": [],
   "source": [
    "import numpy  as np\n",
    "import pandas as pd\n",
    "import seaborn as sns\n",
    "import math\n",
    "\n",
    "from matplotlib import pyplot as plt\n",
    "from sklearn  import linear_model    as lm\n",
    "from sklearn  import model_selection as ms\n",
    "from lightgbm import LGBMClassifier\n",
    "from sklearn.metrics import confusion_matrix\n",
    "from sklearn.preprocessing import MinMaxScaler\n",
    "from xgboost import XGBClassifier\n",
    "from sklearn.model_selection import cross_val_score\n",
    "from sklearn.metrics import precision_score, recall_score, f1_score, roc_auc_score, log_loss"
   ]
  },
  {
   "cell_type": "code",
   "execution_count": 54,
   "metadata": {},
   "outputs": [],
   "source": [
    "df0 = pd.read_csv('datasets/air_system_previous_years.csv')\n",
    "df_test0 = pd.read_csv('datasets/air_system_present_year.csv')"
   ]
  },
  {
   "cell_type": "code",
   "execution_count": 55,
   "metadata": {},
   "outputs": [],
   "source": [
    "# Mapear 'neg' e 'pos' para 0 e 1 na coluna 'class'\n",
    "df0['class'] = df0['class'].map({'neg': 0, 'pos': 1})\n",
    "df_test0['class'] = df_test0['class'].map({'neg': 0, 'pos': 1})\n",
    "\n",
    "# Separar variável alvo\n",
    "y = df0['class']\n",
    "y_test = df_test0['class']"
   ]
  },
  {
   "cell_type": "code",
   "execution_count": 68,
   "metadata": {},
   "outputs": [
    {
     "name": "stdout",
     "output_type": "stream",
     "text": [
      "Área sob a curva ROC: 0.9891\n",
      "Precisão: 0.2800\n",
      "Recall: 0.9840\n",
      "Matriz de Confusão:\n",
      "[[14676   949]\n",
      " [    6   369]]\n"
     ]
    }
   ],
   "source": [
    "\n",
    "X = df0.drop('class', axis=1)\n",
    "X_test = df_test0.drop('class', axis=1)\n",
    "\n",
    "X = X.replace('na', np.nan).apply(pd.to_numeric)\n",
    "X_test = X_test.replace('na', np.nan).apply(pd.to_numeric)\n",
    "\n",
    "X.fillna(X.mean(), inplace=True)\n",
    "X_test.fillna(X.mean(), inplace=True)\n",
    "\n",
    "mms = MinMaxScaler()\n",
    "X_scaled = mms.fit_transform(X)\n",
    "X_test_scaled = mms.transform(X_test)\n",
    "\n",
    "# Aplicando PCA\n",
    "pca = PCA(n_components=0.95)  \n",
    "X_pca = pca.fit_transform(X_scaled)\n",
    "X_test_pca = pca.transform(X_test_scaled)\n",
    "\n",
    "xgb_final = XGBClassifier(subsample=0.388820765999555, \n",
    "                          n_estimators=226,\n",
    "                          eta=0.07036202197513876,\n",
    "                          min_child_weight=8,\n",
    "                          max_depth=8, \n",
    "                          colsample_bytree=0.8587727056650034,\n",
    "                          random_state=42)\n",
    "\n",
    "xgb_final.fit(X_pca, y)\n",
    "\n",
    "y_pred_proba = xgb_final.predict_proba(X_test_pca)[:, 1]\n",
    "y_pred_binary = (y_pred_proba > 0.010101010101010102).astype(int)  \n",
    "\n",
    "roc_auc = roc_auc_score(y_test, y_pred_proba)\n",
    "precision = precision_score(y_test, y_pred_binary)\n",
    "recall = recall_score(y_test, y_pred_binary)\n",
    "conf_matrix = confusion_matrix(y_test, y_pred_binary)\n",
    "\n",
    "print(f'Área sob a curva ROC: {roc_auc:.4f}')\n",
    "print(f'Precisão: {precision:.4f}')\n",
    "print(f'Recall: {recall:.4f}')\n",
    "print('Matriz de Confusão:')\n",
    "print(conf_matrix)"
   ]
  },
  {
   "cell_type": "code",
   "execution_count": 69,
   "metadata": {},
   "outputs": [
    {
     "name": "stdout",
     "output_type": "stream",
     "text": [
      "Melhor Threshold: 0.010101010101010102\n",
      "Custo Mínimo: 21715\n"
     ]
    }
   ],
   "source": [
    "# Lista de thresholds para testar\n",
    "thresholds = np.linspace(0, 1, 100)\n",
    "\n",
    "best_threshold = None\n",
    "min_cost = float('inf')\n",
    "\n",
    "for threshold in thresholds:\n",
    "    y_pred_binary = (y_pred_proba > threshold).astype(int)\n",
    "    \n",
    "    # Calcular FN, TP, FP\n",
    "    fn = confusion_matrix(y_test, y_pred_binary)[1, 0]\n",
    "    tp = confusion_matrix(y_test, y_pred_binary)[1, 1]\n",
    "    fp = confusion_matrix(y_test, y_pred_binary)[0, 1]\n",
    "    \n",
    "    # Calcular custo total\n",
    "    total_cost = fn * 500 + tp * 25 + fp * 10\n",
    "    \n",
    "    # Atualizar o melhor threshold se encontrar um custo menor\n",
    "    if total_cost < min_cost:\n",
    "        min_cost = total_cost\n",
    "        best_threshold = threshold\n",
    "\n",
    "print(\"Melhor Threshold:\", best_threshold)\n",
    "print(\"Custo Mínimo:\", min_cost)"
   ]
  }
 ],
 "metadata": {
  "kernelspec": {
   "display_name": "propensao",
   "language": "python",
   "name": "python3"
  },
  "language_info": {
   "codemirror_mode": {
    "name": "ipython",
    "version": 3
   },
   "file_extension": ".py",
   "mimetype": "text/x-python",
   "name": "python",
   "nbconvert_exporter": "python",
   "pygments_lexer": "ipython3",
   "version": "3.10.13"
  },
  "orig_nbformat": 4
 },
 "nbformat": 4,
 "nbformat_minor": 2
}
